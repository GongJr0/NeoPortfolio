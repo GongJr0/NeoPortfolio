{
 "cells": [
  {
   "metadata": {
    "ExecuteTime": {
     "end_time": "2024-12-19T12:31:08.940778Z",
     "start_time": "2024-12-19T12:31:08.937312Z"
    }
   },
   "cell_type": "code",
   "source": "from datetime import datetime as dt, timedelta",
   "id": "8f51bbdd85d0c881",
   "outputs": [],
   "execution_count": 6
  }
 ],
 "metadata": {
  "kernelspec": {
   "display_name": "StockAnalyser",
   "language": "python",
   "name": "stockanalyser"
  },
  "language_info": {
   "codemirror_mode": {
    "name": "ipython",
    "version": 2
   },
   "file_extension": ".py",
   "mimetype": "text/x-python",
   "name": "python",
   "nbconvert_exporter": "python",
   "pygments_lexer": "ipython2",
   "version": "2.7.6"
  }
 },
 "nbformat": 4,
 "nbformat_minor": 5
}
