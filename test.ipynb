{
 "cells": [
  {
   "metadata": {
    "ExecuteTime": {
     "end_time": "2024-12-28T07:05:50.954785Z",
     "start_time": "2024-12-28T07:05:45.436730Z"
    }
   },
   "cell_type": "code",
   "source": "from NeoPortfolio import Markowitz, Portfolio",
   "id": "24907b7d557be0d2",
   "outputs": [],
   "execution_count": 1
  },
  {
   "metadata": {
    "ExecuteTime": {
     "end_time": "2024-12-28T07:05:52.403505Z",
     "start_time": "2024-12-28T07:05:52.400743Z"
    }
   },
   "cell_type": "code",
   "source": "portfolio = Portfolio('AAPL', 'MSFT', 'NVDA')",
   "id": "280b78718ac93678",
   "outputs": [],
   "execution_count": 2
  },
  {
   "metadata": {
    "ExecuteTime": {
     "end_time": "2024-12-28T07:06:00.270514Z",
     "start_time": "2024-12-28T07:05:53.851761Z"
    }
   },
   "cell_type": "code",
   "source": [
    "markowitz = Markowitz(portfolio,\n",
    "                      market='^GSPC',\n",
    "                      horizon=21,\n",
    "                      lookback=252,\n",
    "                      rf_rate_pa=0.05717,\n",
    "                      api_key_path='api.env',\n",
    "                      api_key_var='API_KEY')"
   ],
   "id": "3ead29964e35d47b",
   "outputs": [
    {
     "name": "stderr",
     "output_type": "stream",
     "text": [
      "[*********************100%***********************]  3 of 3 completed\n",
      "Asking to truncate to max_length but no maximum length is provided and the model has no predefined maximum length. Default to no truncation.\n"
     ]
    }
   ],
   "execution_count": 3
  },
  {
   "metadata": {},
   "cell_type": "code",
   "outputs": [],
   "execution_count": null,
   "source": "",
   "id": "1fff2a2618b5ce18"
  }
 ],
 "metadata": {
  "kernelspec": {
   "name": "stockanalysis",
   "language": "python",
   "display_name": "StockAnalysis"
  }
 },
 "nbformat": 5,
 "nbformat_minor": 9
}
