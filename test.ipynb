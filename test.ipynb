{
 "cells": [
  {
   "metadata": {
    "ExecuteTime": {
     "end_time": "2024-12-28T07:48:23.768297Z",
     "start_time": "2024-12-28T07:48:23.765268Z"
    }
   },
   "cell_type": "code",
   "source": "from NeoPortfolio import Markowitz, Portfolio",
   "id": "24907b7d557be0d2",
   "outputs": [],
   "execution_count": 13
  },
  {
   "metadata": {
    "ExecuteTime": {
     "end_time": "2024-12-28T07:48:23.772505Z",
     "start_time": "2024-12-28T07:48:23.769302Z"
    }
   },
   "cell_type": "code",
   "source": "portfolio = Portfolio('AMZN', 'PLTR', 'ATAT', 'NIO', 'JPM')",
   "id": "280b78718ac93678",
   "outputs": [],
   "execution_count": 14
  },
  {
   "metadata": {
    "ExecuteTime": {
     "end_time": "2024-12-28T07:48:25.438515Z",
     "start_time": "2024-12-28T07:48:23.773510Z"
    }
   },
   "cell_type": "code",
   "source": [
    "markowitz = Markowitz(portfolio,\n",
    "                      market='^GSPC',\n",
    "                      horizon=21,\n",
    "                      lookback=252,\n",
    "                      rf_rate_pa=0.05717,\n",
    "                      api_key_path='api.env',\n",
    "                      api_key_var='API_KEY')"
   ],
   "id": "3ead29964e35d47b",
   "outputs": [
    {
     "name": "stderr",
     "output_type": "stream",
     "text": [
      "[*********************100%***********************]  5 of 5 completed\n"
     ]
    }
   ],
   "execution_count": 15
  },
  {
   "metadata": {
    "ExecuteTime": {
     "end_time": "2024-12-28T07:48:25.457671Z",
     "start_time": "2024-12-28T07:48:25.439521Z"
    }
   },
   "cell_type": "code",
   "source": "markowitz.optimize_return(0.03)",
   "id": "1fff2a2618b5ce18",
   "outputs": [
    {
     "data": {
      "text/plain": [
       "({'AMZN': 0.288, 'ATAT': 0.0405, 'JPM': 0.6336, 'NIO': 0.0379, 'PLTR': 0.0},\n",
       "  message: Optimization terminated successfully\n",
       "  success: True\n",
       "   status: 0\n",
       "      fun: 0.0017702526662789421\n",
       "        x: [ 2.880e-01  4.048e-02  6.336e-01  3.793e-02  0.000e+00]\n",
       "      nit: 7\n",
       "      jac: [ 4.340e-03  3.360e-03  3.229e-03  2.864e-03  7.592e-03]\n",
       "     nfev: 42\n",
       "     njev: 7)"
      ]
     },
     "execution_count": 16,
     "metadata": {},
     "output_type": "execute_result"
    }
   ],
   "execution_count": 16
  },
  {
   "metadata": {
    "ExecuteTime": {
     "end_time": "2024-12-28T07:48:25.462864Z",
     "start_time": "2024-12-28T07:48:25.458678Z"
    }
   },
   "cell_type": "code",
   "source": "markowitz.portfolio.results",
   "id": "c3ba0fdcae354170",
   "outputs": [
    {
     "data": {
      "text/plain": [
       "{'weights': {'AMZN': 0.288,\n",
       "  'ATAT': 0.0405,\n",
       "  'JPM': 0.6336,\n",
       "  'NIO': 0.0379,\n",
       "  'PLTR': 0.0},\n",
       " 'expected_returns': {'AMZN': 0.1085,\n",
       "  'ATAT': 0.0543,\n",
       "  'JPM': 0.0081,\n",
       "  'NIO': -0.0511,\n",
       "  'PLTR': 0.2949},\n",
       " 'volatility': {'AMZN': 0.073,\n",
       "  'ATAT': 0.1624,\n",
       "  'JPM': 0.0517,\n",
       "  'NIO': 0.2237,\n",
       "  'PLTR': 0.1451},\n",
       " 'beta': {'AMZN': 1.7153,\n",
       "  'ATAT': 2.2581,\n",
       "  'JPM': 0.6865,\n",
       "  'NIO': 2.2064,\n",
       "  'PLTR': 1.9365},\n",
       " 'sharpe_ratio': {'AMZN': 1.2164,\n",
       "  'ATAT': 0.2137,\n",
       "  'JPM': -0.2235,\n",
       "  'NIO': -0.3161,\n",
       "  'PLTR': 1.8967},\n",
       " 'sentiment': {'AMZN': 0.2128,\n",
       "  'ATAT': 0.0,\n",
       "  'JPM': -0.1344,\n",
       "  'NIO': 0.228,\n",
       "  'PLTR': -0.0024}}"
      ]
     },
     "execution_count": 17,
     "metadata": {},
     "output_type": "execute_result"
    }
   ],
   "execution_count": 17
  },
  {
   "metadata": {
    "ExecuteTime": {
     "end_time": "2024-12-28T07:48:25.466837Z",
     "start_time": "2024-12-28T07:48:25.463870Z"
    }
   },
   "cell_type": "code",
   "source": "markowitz.sentiment.cache.close()",
   "id": "8cac590e0c90d21",
   "outputs": [],
   "execution_count": 18
  }
 ],
 "metadata": {
  "kernelspec": {
   "name": "stockanalysis",
   "language": "python",
   "display_name": "StockAnalysis"
  }
 },
 "nbformat": 5,
 "nbformat_minor": 9
}
