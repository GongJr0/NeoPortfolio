{
 "cells": [
  {
   "metadata": {
    "ExecuteTime": {
     "end_time": "2024-12-16T21:55:10.915437Z",
     "start_time": "2024-12-16T21:55:10.912013Z"
    }
   },
   "cell_type": "code",
   "source": [
    "from CustomTypes import Portfolio\n",
    "from _class.Markowitz import Markowitz"
   ],
   "id": "54da63d184a1da85",
   "outputs": [],
   "execution_count": 3
  },
  {
   "metadata": {
    "ExecuteTime": {
     "end_time": "2024-12-16T21:55:10.926669Z",
     "start_time": "2024-12-16T21:55:10.922959Z"
    }
   },
   "cell_type": "code",
   "source": "portfolio = Portfolio(\"AMZN\", \"NIO\", \"ATAT\", \"JPM\", \"PLTR\" )",
   "id": "adb53ba9d93edf25",
   "outputs": [],
   "execution_count": 4
  },
  {
   "metadata": {
    "ExecuteTime": {
     "end_time": "2024-12-16T21:55:11.558593Z",
     "start_time": "2024-12-16T21:55:10.939097Z"
    }
   },
   "cell_type": "code",
   "source": "markowitz = Markowitz(portfolio, market='^GSPC', horizon=21, lookback=252*2)",
   "id": "b715f41a53541e8d",
   "outputs": [
    {
     "name": "stderr",
     "output_type": "stream",
     "text": [
      "[*********************100%***********************]  5 of 5 completed\n"
     ]
    }
   ],
   "execution_count": 5
  },
  {
   "metadata": {
    "ExecuteTime": {
     "end_time": "2024-12-16T21:55:11.581166Z",
     "start_time": "2024-12-16T21:55:11.564615Z"
    }
   },
   "cell_type": "code",
   "source": "markowitz.optimize(0.05, bounds=(0.05, 0.7), with_beta=True)",
   "id": "82b7dc46c5b54872",
   "outputs": [
    {
     "name": "stderr",
     "output_type": "stream",
     "text": [
      "C:\\Users\\Gong Jr\\.conda\\envs\\StockAnalysis\\Lib\\site-packages\\scipy\\optimize\\_slsqp_py.py:434: RuntimeWarning: Values in x were outside bounds during a minimize step, clipping to bounds\n",
      "  fx = wrapped_fun(x)\n",
      "C:\\Users\\Gong Jr\\.conda\\envs\\StockAnalysis\\Lib\\site-packages\\scipy\\optimize\\_slsqp_py.py:438: RuntimeWarning: Values in x were outside bounds during a minimize step, clipping to bounds\n",
      "  g = append(wrapped_grad(x), 0.0)\n",
      "C:\\Users\\Gong Jr\\.conda\\envs\\StockAnalysis\\Lib\\site-packages\\scipy\\optimize\\_slsqp_py.py:492: RuntimeWarning: Values in x were outside bounds during a minimize step, clipping to bounds\n",
      "  a_eq = vstack([con['jac'](x, *con['args'])\n"
     ]
    },
    {
     "data": {
      "text/plain": [
       "({'AMZN': np.float64(0.05),\n",
       "  'ATAT': np.float64(0.3416),\n",
       "  'JPM': np.float64(0.5084),\n",
       "  'NIO': np.float64(0.05),\n",
       "  'PLTR': np.float64(0.05)},\n",
       "  message: Optimization terminated successfully\n",
       "  success: True\n",
       "   status: 0\n",
       "      fun: 0.042498112021032465\n",
       "        x: [ 5.000e-02  3.416e-01  5.084e-01  5.000e-02  5.000e-02]\n",
       "      nit: 3\n",
       "      jac: [ 5.762e-01  4.653e-01  4.180e-01  7.437e-01  8.315e-01]\n",
       "     nfev: 18\n",
       "     njev: 3)"
      ]
     },
     "execution_count": 6,
     "metadata": {},
     "output_type": "execute_result"
    }
   ],
   "execution_count": 6
  },
  {
   "metadata": {
    "ExecuteTime": {
     "end_time": "2024-12-16T21:55:11.687717Z",
     "start_time": "2024-12-16T21:55:11.683017Z"
    }
   },
   "cell_type": "code",
   "source": "portfolio.results['weights']",
   "id": "53ab31e6e941d67",
   "outputs": [
    {
     "data": {
      "text/plain": [
       "{'AMZN': np.float64(0.05),\n",
       " 'ATAT': np.float64(0.3416),\n",
       " 'JPM': np.float64(0.5084),\n",
       " 'NIO': np.float64(0.05),\n",
       " 'PLTR': np.float64(0.05)}"
      ]
     },
     "execution_count": 7,
     "metadata": {},
     "output_type": "execute_result"
    }
   ],
   "execution_count": 7
  },
  {
   "metadata": {
    "ExecuteTime": {
     "end_time": "2024-12-16T21:55:11.784010Z",
     "start_time": "2024-12-16T21:55:11.779798Z"
    }
   },
   "cell_type": "code",
   "source": "markowitz.expected_returns.mean()",
   "id": "78e3fcb29fe51328",
   "outputs": [
    {
     "data": {
      "text/plain": [
       "np.float64(0.08672468959375518)"
      ]
     },
     "execution_count": 8,
     "metadata": {},
     "output_type": "execute_result"
    }
   ],
   "execution_count": 8
  },
  {
   "metadata": {
    "ExecuteTime": {
     "end_time": "2024-12-16T21:55:11.846234Z",
     "start_time": "2024-12-16T21:55:11.841264Z"
    }
   },
   "cell_type": "code",
   "source": "markowitz._beta()",
   "id": "e60537d2fb13c0a1",
   "outputs": [
    {
     "data": {
      "text/plain": [
       "{'AMZN': np.float64(1.4529714710299537),\n",
       " 'ATAT': np.float64(1.1482515630633192),\n",
       " 'JPM': np.float64(1.0535102163022796),\n",
       " 'NIO': np.float64(1.849329427993463),\n",
       " 'PLTR': np.float64(2.0809015321074527)}"
      ]
     },
     "execution_count": 9,
     "metadata": {},
     "output_type": "execute_result"
    }
   ],
   "execution_count": 9
  }
 ],
 "metadata": {
  "kernelspec": {
   "display_name": "StockAnalysis",
   "language": "python",
   "name": "stockanalysis"
  },
  "language_info": {
   "codemirror_mode": {
    "name": "ipython",
    "version": 2
   },
   "file_extension": ".py",
   "mimetype": "text/x-python",
   "name": "python",
   "nbconvert_exporter": "python",
   "pygments_lexer": "ipython2",
   "version": "2.7.6"
  }
 },
 "nbformat": 4,
 "nbformat_minor": 5
}
