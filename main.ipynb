{
 "cells": [
  {
   "cell_type": "code",
   "id": "initial_id",
   "metadata": {
    "collapsed": true,
    "ExecuteTime": {
     "end_time": "2024-12-15T06:33:21.330794Z",
     "start_time": "2024-12-15T06:33:21.328261Z"
    }
   },
   "source": [
    "import yfinance as yf\n",
    "import pandas as pd"
   ],
   "outputs": [],
   "execution_count": 2
  },
  {
   "metadata": {
    "ExecuteTime": {
     "end_time": "2024-12-15T06:33:43.561034Z",
     "start_time": "2024-12-15T06:33:41.704528Z"
    }
   },
   "cell_type": "code",
   "source": [
    "tickers = yf.Tickers('AAPL MSFT GOOGL AMZN META')\n",
    "data = tickers.history(period='1d', start='2021-1-1', end='2021-12-31')"
   ],
   "id": "a6cc4d5d3123b0b7",
   "outputs": [
    {
     "name": "stderr",
     "output_type": "stream",
     "text": [
      "[*********************100%***********************]  5 of 5 completed\n"
     ]
    }
   ],
   "execution_count": 3
  },
  {
   "metadata": {
    "ExecuteTime": {
     "end_time": "2024-12-15T06:34:25.194011Z",
     "start_time": "2024-12-15T06:34:25.183177Z"
    }
   },
   "cell_type": "code",
   "source": [
    "returns = (data['Close'] - data['Close'].shift(21)) / data['Close'].shift(21)\n",
    "returns = returns.dropna()\n",
    "returns"
   ],
   "id": "9c368f3e42bc0f32",
   "outputs": [
    {
     "data": {
      "text/plain": [
       "Ticker          AAPL      AMZN     GOOGL      META      MSFT\n",
       "Date                                                        \n",
       "2021-02-03  0.035005  0.039509  0.192772 -0.008515  0.116266\n",
       "2021-02-04  0.048699  0.034951  0.180213 -0.016533  0.110647\n",
       "2021-02-05  0.081867  0.068115  0.212406  0.018192  0.141107\n",
       "2021-02-08  0.047316  0.050845  0.174814 -0.008037  0.110770\n",
       "2021-02-09  0.031528  0.038427  0.154386  0.007026  0.109963\n",
       "...              ...       ...       ...       ...       ...\n",
       "2021-12-23  0.092126 -0.044321  0.007782 -0.005960 -0.008854\n",
       "2021-12-27  0.113561 -0.052234  0.012226  0.015012  0.013436\n",
       "2021-12-28  0.143358 -0.026063  0.031677  0.039325  0.035095\n",
       "2021-12-29  0.119446 -0.049852  0.007727  0.014525  0.015804\n",
       "2021-12-30  0.078040 -0.038260  0.030325  0.061333  0.026407\n",
       "\n",
       "[230 rows x 5 columns]"
      ],
      "text/html": [
       "<div>\n",
       "<style scoped>\n",
       "    .dataframe tbody tr th:only-of-type {\n",
       "        vertical-align: middle;\n",
       "    }\n",
       "\n",
       "    .dataframe tbody tr th {\n",
       "        vertical-align: top;\n",
       "    }\n",
       "\n",
       "    .dataframe thead th {\n",
       "        text-align: right;\n",
       "    }\n",
       "</style>\n",
       "<table border=\"1\" class=\"dataframe\">\n",
       "  <thead>\n",
       "    <tr style=\"text-align: right;\">\n",
       "      <th>Ticker</th>\n",
       "      <th>AAPL</th>\n",
       "      <th>AMZN</th>\n",
       "      <th>GOOGL</th>\n",
       "      <th>META</th>\n",
       "      <th>MSFT</th>\n",
       "    </tr>\n",
       "    <tr>\n",
       "      <th>Date</th>\n",
       "      <th></th>\n",
       "      <th></th>\n",
       "      <th></th>\n",
       "      <th></th>\n",
       "      <th></th>\n",
       "    </tr>\n",
       "  </thead>\n",
       "  <tbody>\n",
       "    <tr>\n",
       "      <th>2021-02-03</th>\n",
       "      <td>0.035005</td>\n",
       "      <td>0.039509</td>\n",
       "      <td>0.192772</td>\n",
       "      <td>-0.008515</td>\n",
       "      <td>0.116266</td>\n",
       "    </tr>\n",
       "    <tr>\n",
       "      <th>2021-02-04</th>\n",
       "      <td>0.048699</td>\n",
       "      <td>0.034951</td>\n",
       "      <td>0.180213</td>\n",
       "      <td>-0.016533</td>\n",
       "      <td>0.110647</td>\n",
       "    </tr>\n",
       "    <tr>\n",
       "      <th>2021-02-05</th>\n",
       "      <td>0.081867</td>\n",
       "      <td>0.068115</td>\n",
       "      <td>0.212406</td>\n",
       "      <td>0.018192</td>\n",
       "      <td>0.141107</td>\n",
       "    </tr>\n",
       "    <tr>\n",
       "      <th>2021-02-08</th>\n",
       "      <td>0.047316</td>\n",
       "      <td>0.050845</td>\n",
       "      <td>0.174814</td>\n",
       "      <td>-0.008037</td>\n",
       "      <td>0.110770</td>\n",
       "    </tr>\n",
       "    <tr>\n",
       "      <th>2021-02-09</th>\n",
       "      <td>0.031528</td>\n",
       "      <td>0.038427</td>\n",
       "      <td>0.154386</td>\n",
       "      <td>0.007026</td>\n",
       "      <td>0.109963</td>\n",
       "    </tr>\n",
       "    <tr>\n",
       "      <th>...</th>\n",
       "      <td>...</td>\n",
       "      <td>...</td>\n",
       "      <td>...</td>\n",
       "      <td>...</td>\n",
       "      <td>...</td>\n",
       "    </tr>\n",
       "    <tr>\n",
       "      <th>2021-12-23</th>\n",
       "      <td>0.092126</td>\n",
       "      <td>-0.044321</td>\n",
       "      <td>0.007782</td>\n",
       "      <td>-0.005960</td>\n",
       "      <td>-0.008854</td>\n",
       "    </tr>\n",
       "    <tr>\n",
       "      <th>2021-12-27</th>\n",
       "      <td>0.113561</td>\n",
       "      <td>-0.052234</td>\n",
       "      <td>0.012226</td>\n",
       "      <td>0.015012</td>\n",
       "      <td>0.013436</td>\n",
       "    </tr>\n",
       "    <tr>\n",
       "      <th>2021-12-28</th>\n",
       "      <td>0.143358</td>\n",
       "      <td>-0.026063</td>\n",
       "      <td>0.031677</td>\n",
       "      <td>0.039325</td>\n",
       "      <td>0.035095</td>\n",
       "    </tr>\n",
       "    <tr>\n",
       "      <th>2021-12-29</th>\n",
       "      <td>0.119446</td>\n",
       "      <td>-0.049852</td>\n",
       "      <td>0.007727</td>\n",
       "      <td>0.014525</td>\n",
       "      <td>0.015804</td>\n",
       "    </tr>\n",
       "    <tr>\n",
       "      <th>2021-12-30</th>\n",
       "      <td>0.078040</td>\n",
       "      <td>-0.038260</td>\n",
       "      <td>0.030325</td>\n",
       "      <td>0.061333</td>\n",
       "      <td>0.026407</td>\n",
       "    </tr>\n",
       "  </tbody>\n",
       "</table>\n",
       "<p>230 rows × 5 columns</p>\n",
       "</div>"
      ]
     },
     "execution_count": 7,
     "metadata": {},
     "output_type": "execute_result"
    }
   ],
   "execution_count": 7
  },
  {
   "metadata": {
    "ExecuteTime": {
     "end_time": "2024-12-15T06:34:53.763428Z",
     "start_time": "2024-12-15T06:34:53.758127Z"
    }
   },
   "cell_type": "code",
   "source": "returns.ewm(span=21).mean().iloc[-1]",
   "id": "a5ff45e2b5fb6607",
   "outputs": [
    {
     "data": {
      "text/plain": [
       "Ticker\n",
       "AAPL     0.110652\n",
       "AMZN    -0.026435\n",
       "GOOGL    0.000890\n",
       "META    -0.000445\n",
       "MSFT     0.007282\n",
       "Name: 2021-12-30 00:00:00, dtype: float64"
      ]
     },
     "execution_count": 9,
     "metadata": {},
     "output_type": "execute_result"
    }
   ],
   "execution_count": 9
  }
 ],
 "metadata": {
  "kernelspec": {
   "display_name": "Python 3 (ipykernel)",
   "language": "python",
   "name": "python3"
  },
  "language_info": {
   "codemirror_mode": {
    "name": "ipython",
    "version": 2
   },
   "file_extension": ".py",
   "mimetype": "text/x-python",
   "name": "python",
   "nbconvert_exporter": "python",
   "pygments_lexer": "ipython2",
   "version": "2.7.6"
  }
 },
 "nbformat": 4,
 "nbformat_minor": 5
}
