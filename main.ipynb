{
 "cells": [
  {
   "metadata": {
    "ExecuteTime": {
     "end_time": "2024-12-16T17:11:13.132209Z",
     "start_time": "2024-12-16T17:11:13.125002Z"
    }
   },
   "cell_type": "code",
   "source": [
    "from CustomTypes import Portfolio\n",
    "from _class.Markowitz import Markowitz"
   ],
   "id": "54da63d184a1da85",
   "outputs": [],
   "execution_count": 33
  },
  {
   "metadata": {
    "ExecuteTime": {
     "end_time": "2024-12-16T17:11:13.137171Z",
     "start_time": "2024-12-16T17:11:13.134372Z"
    }
   },
   "cell_type": "code",
   "source": "portfolio = Portfolio(\"NVDA\", \"MCD\", \"PLTR\", \"GOOG\", \"MSFT\" )",
   "id": "adb53ba9d93edf25",
   "outputs": [],
   "execution_count": 34
  },
  {
   "metadata": {
    "ExecuteTime": {
     "end_time": "2024-12-16T17:11:13.513932Z",
     "start_time": "2024-12-16T17:11:13.137944Z"
    }
   },
   "cell_type": "code",
   "source": "markowitz = Markowitz(portfolio, market='^GSPC', horizon=21, lookback=252*2)",
   "id": "b715f41a53541e8d",
   "outputs": [
    {
     "name": "stderr",
     "output_type": "stream",
     "text": [
      "[*********************100%***********************]  5 of 5 completed\n"
     ]
    }
   ],
   "execution_count": 35
  },
  {
   "metadata": {
    "ExecuteTime": {
     "end_time": "2024-12-16T17:11:13.525619Z",
     "start_time": "2024-12-16T17:11:13.515063Z"
    }
   },
   "cell_type": "code",
   "source": "markowitz.optimize(0.05, bounds=(0.05, 0.7), with_beta=True)",
   "id": "82b7dc46c5b54872",
   "outputs": [
    {
     "name": "stderr",
     "output_type": "stream",
     "text": [
      "/opt/miniconda3/envs/StockAnalysis/lib/python3.13/site-packages/scipy/optimize/_slsqp_py.py:434: RuntimeWarning: Values in x were outside bounds during a minimize step, clipping to bounds\n",
      "  fx = wrapped_fun(x)\n",
      "/opt/miniconda3/envs/StockAnalysis/lib/python3.13/site-packages/scipy/optimize/_slsqp_py.py:438: RuntimeWarning: Values in x were outside bounds during a minimize step, clipping to bounds\n",
      "  g = append(wrapped_grad(x), 0.0)\n",
      "/opt/miniconda3/envs/StockAnalysis/lib/python3.13/site-packages/scipy/optimize/_slsqp_py.py:492: RuntimeWarning: Values in x were outside bounds during a minimize step, clipping to bounds\n",
      "  a_eq = vstack([con['jac'](x, *con['args'])\n"
     ]
    },
    {
     "data": {
      "text/plain": [
       "(Index(['GOOG', 'MCD', 'MSFT', 'NVDA', 'PLTR'], dtype='object', name='Ticker'),\n",
       "  message: Optimization terminated successfully\n",
       "  success: True\n",
       "   status: 0\n",
       "      fun: 0.0013239326623825274\n",
       "        x: [ 2.795e-01  3.732e-01  1.607e-01  9.061e-02  9.594e-02]\n",
       "      nit: 10\n",
       "      jac: [ 3.542e-04  1.760e-04  3.918e-04  6.937e-04  3.305e-03]\n",
       "     nfev: 60\n",
       "     njev: 10)"
      ]
     },
     "execution_count": 36,
     "metadata": {},
     "output_type": "execute_result"
    }
   ],
   "execution_count": 36
  },
  {
   "metadata": {
    "ExecuteTime": {
     "end_time": "2024-12-16T17:11:13.527954Z",
     "start_time": "2024-12-16T17:11:13.526220Z"
    }
   },
   "cell_type": "code",
   "source": "portfolio.results['weights']",
   "id": "53ab31e6e941d67",
   "outputs": [
    {
     "data": {
      "text/plain": [
       "{'GOOG': np.float64(0.27953065569446955),\n",
       " 'MCD': np.float64(0.37324693452135316),\n",
       " 'MSFT': np.float64(0.1606729666170976),\n",
       " 'NVDA': np.float64(0.09061356414689818),\n",
       " 'PLTR': np.float64(0.09593587902018152)}"
      ]
     },
     "execution_count": 37,
     "metadata": {},
     "output_type": "execute_result"
    }
   ],
   "execution_count": 37
  },
  {
   "metadata": {
    "ExecuteTime": {
     "end_time": "2024-12-16T17:14:39.965108Z",
     "start_time": "2024-12-16T17:14:39.959243Z"
    }
   },
   "cell_type": "code",
   "source": "markowitz.expected_returns.mean()",
   "id": "78e3fcb29fe51328",
   "outputs": [
    {
     "data": {
      "text/plain": [
       "np.float64(0.08410186602411833)"
      ]
     },
     "execution_count": 42,
     "metadata": {},
     "output_type": "execute_result"
    }
   ],
   "execution_count": 42
  }
 ],
 "metadata": {
  "kernelspec": {
   "display_name": "StockPrice",
   "language": "python",
   "name": "stockprice"
  },
  "language_info": {
   "codemirror_mode": {
    "name": "ipython",
    "version": 2
   },
   "file_extension": ".py",
   "mimetype": "text/x-python",
   "name": "python",
   "nbconvert_exporter": "python",
   "pygments_lexer": "ipython2",
   "version": "2.7.6"
  }
 },
 "nbformat": 4,
 "nbformat_minor": 5
}
