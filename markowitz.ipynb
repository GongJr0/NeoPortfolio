{
 "cells": [
  {
   "cell_type": "code",
   "id": "initial_id",
   "metadata": {
    "collapsed": true,
    "ExecuteTime": {
     "end_time": "2024-12-14T02:48:35.622126Z",
     "start_time": "2024-12-14T02:48:35.583654Z"
    }
   },
   "source": [
    "import yfinance as yf\n",
    "import pandas as pd\n",
    "import numpy as np\n",
    "import matplotlib.pyplot as plt\n",
    "from scipy import optimize\n",
    "\n",
    "np.set_printoptions(precision=4, suppress=True)"
   ],
   "execution_count": 67,
   "outputs": []
  },
  {
   "metadata": {
    "ExecuteTime": {
     "end_time": "2024-12-14T02:48:35.913722Z",
     "start_time": "2024-12-14T02:48:35.624131Z"
    }
   },
   "cell_type": "code",
   "source": [
    " # Get 5 Stock Portfolio\n",
    "tickers = [\n",
    "    'PEP',\n",
    "    'META',\n",
    "    'UPS',\n",
    "] \n",
    "\n",
    "# Get the data\n",
    "data = yf.download(tickers, period='1y')['Close']"
   ],
   "id": "a5737cffd088194",
   "execution_count": 68,
   "outputs": []
  },
  {
   "metadata": {
    "ExecuteTime": {
     "end_time": "2024-12-14T02:48:35.928840Z",
     "start_time": "2024-12-14T02:48:35.914728Z"
    }
   },
   "cell_type": "code",
   "source": [
    "returns_df = data.apply(lambda col: (col - col.shift(21)) / col.shift(21)).dropna()\n",
    "\n",
    "# Calculate the covariance matrix\n",
    "cov_matrix = returns_df.cov()\n",
    "cov_matrix"
   ],
   "id": "2732f21a5dfdf0ac",
   "execution_count": 69,
   "outputs": []
  },
  {
   "metadata": {
    "ExecuteTime": {
     "end_time": "2024-12-14T02:48:36.031395Z",
     "start_time": "2024-12-14T02:48:35.929845Z"
    }
   },
   "cell_type": "code",
   "source": [
    "# get sp500 for market variance\n",
    "sp500 = yf.download('^GSPC', period='1y')['Close']\n",
    "sp500_returns = (sp500 - sp500.shift(21)) / sp500.shift(21)\n",
    "sp500_returns.dropna(inplace=True)"
   ],
   "id": "d78421c73397caf4",
   "execution_count": 70,
   "outputs": []
  },
  {
   "metadata": {
    "ExecuteTime": {
     "end_time": "2024-12-14T02:48:36.036393Z",
     "start_time": "2024-12-14T02:48:36.033402Z"
    }
   },
   "cell_type": "code",
   "source": [
    "# Calculate the beta of each stock\n",
    "def beta(stock):\n",
    "    df = pd.concat([returns_df[stock], sp500_returns], axis=1).dropna()\n",
    "    cov = df.cov().iloc[0, 1]\n",
    "    var = df.var().iloc[1]\n",
    "    return cov / var"
   ],
   "id": "fd77adcb361befa8",
   "execution_count": 71,
   "outputs": []
  },
  {
   "metadata": {
    "ExecuteTime": {
     "end_time": "2024-12-14T02:48:36.046506Z",
     "start_time": "2024-12-14T02:48:36.036393Z"
    }
   },
   "cell_type": "code",
   "source": [
    "betas = {stock: beta(stock) for stock in data.columns}\n",
    "betas"
   ],
   "id": "e6dcfafb89e8d0fa",
   "execution_count": 72,
   "outputs": []
  },
  {
   "metadata": {
    "ExecuteTime": {
     "end_time": "2024-12-14T02:48:58.466610Z",
     "start_time": "2024-12-14T02:48:58.459150Z"
    }
   },
   "cell_type": "code",
   "source": [
    "# Get monthly average returns for all stocks\n",
    "def monthly_expected_returns(col):\n",
    "    # Calculate 1-month returns for the column (21 trading days in a month)\n",
    "    returns = (data[col] - data[col].shift(21)) / data[col].shift(21).dropna()\n",
    "    # Return the mean of the 1-month returns, dropping NaN values\n",
    "    return returns.mean()\n",
    "\n",
    "# Dictionary comprehension to calculate monthly expected returns for each stock\n",
    "monthly_expected = {\n",
    "    stock: monthly_expected_returns(stock) for stock in data.columns\n",
    "}\n",
    "\n",
    "# Display the results\n",
    "monthly_expected"
   ],
   "id": "13990090f3036c20",
   "execution_count": 78,
   "outputs": []
  },
  {
   "metadata": {
    "ExecuteTime": {
     "end_time": "2024-12-14T02:48:36.080119Z",
     "start_time": "2024-12-14T02:48:36.057039Z"
    }
   },
   "cell_type": "code",
   "source": [
    "rf = 0.05717  # 10 year treasury yield\n",
    "mu = list(monthly_expected.values())  # monthly expected returns\n",
    "cov_m = cov_matrix\n",
    "betas_ls = list(betas.values())\n",
    "n = len(mu)\n",
    "rm = sp500_returns.mean()\n",
    "\n",
    "# Objective Function with betas\n",
    "def neg_sharpe_with_betas(w: list, mu=mu, cov_m=cov_m, rf=rf, betas_ls=betas_ls, rm=rm):\n",
    "    w = np.array(w)\n",
    "    mu = np.array(mu)\n",
    "    betas_ls = np.array(betas_ls)\n",
    "    \n",
    "    returns_portfolio = np.dot(w, mu)\n",
    "    vol_portfolio = np.sqrt(np.dot(w.T, np.dot(cov_m, w)))\n",
    "    \n",
    "    # Adjust returns with betas\n",
    "    beta_adjustment = np.dot(w, betas_ls) * (rm - rf)\n",
    "    adjusted_returns = returns_portfolio + beta_adjustment\n",
    "    \n",
    "    return -(adjusted_returns - rf) / vol_portfolio\n",
    "\n",
    "# Constraints\n",
    "def check_sum(w):\n",
    "    return np.sum(w) - 1\n",
    "\n",
    "cons = {'type': 'eq', 'fun': check_sum}\n",
    "bound = [(0.05, 0.5) for _ in range(n)]\n",
    "\n",
    "# Initial Guess\n",
    "w0 = [1/n for _ in range(n)]\n",
    "\n",
    "# Optimize\n",
    "result = optimize.minimize(neg_sharpe_with_betas, w0, constraints=cons, bounds=bound)\n",
    "optimized_weights = result.x\n",
    "\n",
    "output = pd.DataFrame(\n",
    "    index = data.columns,\n",
    "    data= {'Weight': optimized_weights},\n",
    "    )\n",
    "output.index.name = 'Stock'\n",
    "output"
   ],
   "id": "a40b0dbc2cb45dc0",
   "execution_count": 74,
   "outputs": []
  },
  {
   "metadata": {
    "ExecuteTime": {
     "end_time": "2024-12-14T02:48:36.084580Z",
     "start_time": "2024-12-14T02:48:36.081122Z"
    }
   },
   "cell_type": "code",
   "source": "sum(result.x)",
   "id": "e9007b530bef2832",
   "execution_count": 75,
   "outputs": []
  },
  {
   "metadata": {
    "ExecuteTime": {
     "end_time": "2024-12-14T02:48:36.812152Z",
     "start_time": "2024-12-14T02:48:36.085584Z"
    }
   },
   "cell_type": "code",
   "source": [
    "# Stats for Efficient Frontier\n",
    "def portfolio_stats(weights, mu, cov_matrix):\n",
    "    returns = np.dot(weights, mu)\n",
    "    volatility = np.sqrt(np.dot(weights.T, np.dot(cov_matrix, weights)))\n",
    "    return returns, volatility\n",
    "\n",
    "num_portfolios = 10000 \n",
    "results = np.zeros((3, num_portfolios)) \n",
    "weights_record = []\n",
    "\n",
    "for i in range(num_portfolios): \n",
    "    weights = np.random.random(n) \n",
    "    weights /= np.sum(weights) \n",
    "    weights_record.append(weights) \n",
    "    portfolio_return, portfolio_volatility = portfolio_stats(weights, mu, cov_m) \n",
    "    results[0,i] = portfolio_volatility \n",
    "    results[1,i] = portfolio_return \n",
    "    results[2,i] = (portfolio_return - rf) / portfolio_volatility # Sharpe ratio\n",
    "\n",
    "plt.figure(figsize=(10, 6))\n",
    "plt.scatter(results[0,:], results[1,:], c=results[2,:], cmap='viridis')\n",
    "plt.colorbar(label='Sharpe Ratio')\n",
    "plt.xlabel('Volatility (Risk)')\n",
    "plt.ylabel('Return')\n",
    "plt.title('Efficient Frontier')\n",
    "plt.show()\n"
   ],
   "id": "912dcfcd0adad937",
   "execution_count": 76,
   "outputs": []
  },
  {
   "metadata": {
    "ExecuteTime": {
     "end_time": "2024-12-14T02:48:36.830236Z",
     "start_time": "2024-12-14T02:48:36.813157Z"
    }
   },
   "cell_type": "code",
   "source": [
    "# Adjust weights to selected dot in the efficient frontier (return \\approx 0.06, volatility \\approx 0.085)\n",
    "target_return = 0.08 # Example target return \n",
    "target_volatility = 0.06 # Example target volatility\n",
    "\n",
    "# Create Objective Function\n",
    "def target_diff(weights, mu, cov_matrix, target_return, target_volatility):\n",
    "    portfolio_return, portfolio_volatility = portfolio_stats(weights, mu, cov_matrix)\n",
    "    return (portfolio_return - target_return)**2 + (portfolio_volatility - target_volatility)**2\n",
    "\n",
    "# Constraints\n",
    "def check_sum(weights):\n",
    "    return np.sum(weights) - 1\n",
    "\n",
    "cons = {'type': 'eq', 'fun': check_sum}\n",
    "bound = [(0.05, 0.5) for _ in range(n)]  # Adjusted bounds with max weight\n",
    "\n",
    "# Initial Guess\n",
    "w0 = [1/n for _ in range(n)]\n",
    "\n",
    "# Optimize\n",
    "result = optimize.minimize(target_diff, w0, args=(mu, cov_m, target_return, target_volatility), constraints=cons, bounds=bound)\n",
    "optimized_weights = result.x\n",
    "\n",
    "output = pd.DataFrame(\n",
    "    index = data.columns,\n",
    "    data= {'Weight': optimized_weights},\n",
    "    )\n",
    "output.index.name = 'Stock'\n",
    "output\n"
   ],
   "id": "c850e60770abbf34",
   "execution_count": 77,
   "outputs": []
  }
 ],
 "metadata": {
  "kernelspec": {
   "display_name": "StockAnalysis",
   "language": "python",
   "name": "stockanalysis"
  },
  "language_info": {
   "codemirror_mode": {
    "name": "ipython",
    "version": 2
   },
   "file_extension": ".py",
   "mimetype": "text/x-python",
   "name": "python",
   "nbconvert_exporter": "python",
   "pygments_lexer": "ipython2",
   "version": "2.7.6"
  }
 },
 "nbformat": 4,
 "nbformat_minor": 5
}
